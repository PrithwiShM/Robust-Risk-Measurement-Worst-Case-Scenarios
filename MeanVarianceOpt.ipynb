{
 "cells": [
  {
   "cell_type": "markdown",
   "id": "88d0ef26-5f9d-46b1-b0a1-52ddac42f714",
   "metadata": {
    "slideshow": {
     "slide_type": "notes"
    }
   },
   "source": [
    "## Introduction\n",
    " This notebbook is meant to recreate the results of the Section 4.1 Of Mean Variance Portfolio optimization.\n",
    " A Nominal model is constructed with synthetic parameters leading to a Multi-variate normal distribution.\n",
    " The Robust portfolio is constructed by allowing some model perturbation but retaining the  mean vector."
   ]
  },
  {
   "cell_type": "code",
   "execution_count": 1,
   "id": "f6136df6-dbb0-4d62-b7dc-d9bd04f8df0f",
   "metadata": {},
   "outputs": [],
   "source": [
    "import numpy as np\n",
    "from numpy.linalg import det, inv, eigvalsh\n",
    "\n",
    "import scipy\n",
    "from scipy.optimize import minimize, Bounds #LinearConstraint\n",
    "\n",
    "import pandas as pd\n",
    "import matplotlib.pyplot as plt"
   ]
  },
  {
   "cell_type": "code",
   "execution_count": 2,
   "id": "bf7a8feb-29f2-4ae1-92cf-58d4bdc941ab",
   "metadata": {},
   "outputs": [],
   "source": [
    "# Synthetic parameters for Nominal model\n",
    "# Description - 10 stocks with same parameters \n",
    "mu_i = 0.1\n",
    "sig_ii = 0.3\n",
    "rho_ij = 0.25\n",
    "n = 10\n",
    "\n",
    "gamma = 1\n",
    "\n",
    "# the mean vector and covariance matrix of the Gaussian Distribution\n",
    "mu = np.full(n, mu_i)\n",
    "Sigma = np.full((n, n), rho_ij*sig_ii*sig_ii)\n",
    "\n",
    "# Set the diagonal elements to the diagonal value\n",
    "np.fill_diagonal(Sigma, sig_ii*sig_ii)"
   ]
  },
  {
   "cell_type": "markdown",
   "id": "664da595-1d50-4a67-8f8e-fb715ae56f36",
   "metadata": {},
   "source": [
    "Experiment for a single $\\theta$ value\n",
    "\n",
    "Nominal Portfolio"
   ]
  },
  {
   "cell_type": "code",
   "execution_count": 4,
   "id": "906ce946-38cb-4306-92ac-f38c2214d40b",
   "metadata": {},
   "outputs": [],
   "source": [
    "def portfolio_risk(a, mu, Sigma, gamma):\n",
    "    return -a.T @ mu + (gamma / 2) * a.T @ Sigma @ a\n",
    "\n",
    "# Function to calculate worst-case covariance matrix\n",
    "def worst_case_covariance_matrix(Sigma, theta, gamma, a):\n",
    "    inv_Sigma_wc = inv(Sigma) - theta * gamma * np.outer(a, a)\n",
    "    return inv(inv_Sigma_wc)"
   ]
  },
  {
   "cell_type": "code",
   "execution_count": 3,
   "id": "cc8910b6-a694-4ee3-aca7-966501a480b7",
   "metadata": {},
   "outputs": [
    {
     "name": "stdout",
     "output_type": "stream",
     "text": [
      "Optimal Weights [0.34188034 0.34188034 0.34188034 0.34188034 0.34188034 0.34188034\n",
      " 0.34188034 0.34188034 0.34188034 0.34188034]\n"
     ]
    }
   ],
   "source": [
    "#one = np.full(n, 1) \n",
    "a_hat = (1/gamma)* inv(Sigma) @ mu\n",
    "print(\"Optimal Weights\", a_hat)"
   ]
  },
  {
   "cell_type": "code",
   "execution_count": 5,
   "id": "0e11c457-d21b-4279-abc5-911adca8ae2d",
   "metadata": {},
   "outputs": [
    {
     "name": "stdout",
     "output_type": "stream",
     "text": [
      "Performance in Nominal Model: -0.17094017094017097\n",
      "Performance in Worst-Case Model: -0.15839410334823173\n"
     ]
    }
   ],
   "source": [
    "performance_nominal = portfolio_risk(a_hat, mu, Sigma, gamma)\n",
    "print(\"Performance in Nominal Model:\", performance_nominal)\n",
    "\n",
    "theta1 = 0.2\n",
    "# Calculate worst-case covariance matrix\n",
    "Sigma_tilda = worst_case_covariance_matrix(Sigma, theta1, gamma, a_hat)\n",
    "\n",
    "# Calculate performance in the worst-case model\n",
    "performance_wc = portfolio_risk(a_hat, mu, Sigma_tilda, gamma)\n",
    "print(\"Performance in Worst-Case Model:\", performance_wc)"
   ]
  },
  {
   "cell_type": "markdown",
   "id": "678e3599-05b8-499f-94bf-42cc6d5e15a2",
   "metadata": {},
   "source": [
    "Worst Case Portfolio"
   ]
  },
  {
   "cell_type": "code",
   "execution_count": 6,
   "id": "944b8002-4768-470a-9cdb-948f99170eac",
   "metadata": {},
   "outputs": [],
   "source": [
    "I = np.eye(n)\n",
    "\n",
    "#speciific case for analysis\n",
    "theta_ = 0.2\n",
    "\n",
    "def objective_a_oftheta(a, theta):\n",
    "    term1 = 1 / np.sqrt(det(I - theta * gamma * np.outer(a,a) @ Sigma))\n",
    "    return (1/theta)*np.log(term1) - a.T @ mu\n",
    "\n",
    "def positive_definite_constraint(a, theta):\n",
    "    eigen_min = eigvalsh(inv(Sigma) - theta * gamma * np.outer(a,a) )\n",
    "    return eigen_min - 1e-10  # Ensure all eigenvalues are slightly greater than zero\n"
   ]
  },
  {
   "cell_type": "code",
   "execution_count": 7,
   "id": "73567587-aa87-4ccb-9c2e-84790ccd64bc",
   "metadata": {},
   "outputs": [
    {
     "name": "stdout",
     "output_type": "stream",
     "text": [
      "Optimized a: [0.32123484 0.32123468 0.32123483 0.32123489 0.32123466 0.32123475\n",
      " 0.32123482 0.32123475 0.32123482 0.32123476]\n",
      " Minimum adjective reached at -0.16556950126828307 Not portfolio objective!\n"
     ]
    }
   ],
   "source": [
    "bounds = Bounds(0, np.inf)\n",
    "# Initial guess for 'a'\n",
    "a0 = np.ones(n)/n\n",
    "\n",
    "# Define constraints in the format required by 'minimize'\n",
    "constraints = {'type': 'ineq', 'fun': positive_definite_constraint, 'args': (theta_,)}\n",
    "\n",
    "# Perform the optimization\n",
    "result = minimize(objective_a_oftheta, a0, method='SLSQP', constraints=constraints, bounds=None, args = (theta_))\n",
    "\n",
    "# Check if the optimization was successful\n",
    "if result.success:\n",
    "    a_star = result.x\n",
    "    print(\"Optimized a:\", a_star)\n",
    "    print(\" Minimum adjective reached at\", np.real(result.fun), \"Not portfolio objective!\")\n",
    "else:\n",
    "    print(\"Optimization failed:\", result.message)"
   ]
  },
  {
   "cell_type": "code",
   "execution_count": 8,
   "id": "97630dcb-67c6-4338-adee-62a6c16e33f3",
   "metadata": {},
   "outputs": [
    {
     "name": "stdout",
     "output_type": "stream",
     "text": [
      "RPs_nominal  -0.1703167961000424\n",
      "RPs_worstcase  -0.1592402467902211\n",
      "Rel_entropy  0.0012842214221154696\n"
     ]
    }
   ],
   "source": [
    "#computaion of entropy, risk_measurement\n",
    "#mvo = mean variance objective\n",
    "\n",
    "Rel_entropy = 0.5*(np.log(det(Sigma @ inv(Sigma_tilda) )) + np.trace(inv(Sigma) @ Sigma_tilda - I))\n",
    "\n",
    "RPs_nominal = portfolio_risk(a_star, mu, Sigma, gamma)\n",
    "\n",
    "RPs_worstcase = -np.dot(a_star, mu) + (gamma/2)* np.dot(np.matmul(a_star, Sigma_tilda), a_star)\n",
    "RPs_worstcase2 = portfolio_risk(a_star, mu, Sigma_tilda, gamma)\n",
    "# Both of them are the same\n",
    "\n",
    "print('RPs_nominal ', RPs_nominal)\n",
    "print('RPs_worstcase ', RPs_worstcase2)\n",
    "print('Rel_entropy ', Rel_entropy)"
   ]
  },
  {
   "cell_type": "markdown",
   "id": "b219a387-83bc-4c31-beb9-58bbb57049dd",
   "metadata": {},
   "source": [
    "Scipy optimize based optimization\n",
    "\n",
    "The below section repeats the experiment for a range of $\\theta$ values and builds the NP and RP profiles."
   ]
  },
  {
   "cell_type": "code",
   "execution_count": null,
   "id": "602c64ed-ae5a-4a7a-b15e-f8c47baaec7b",
   "metadata": {
    "scrolled": true
   },
   "outputs": [],
   "source": [
    "results_ = {}\n",
    "thetas = (np.exp(np.linspace(0, 1)) - 1)[1:]\n",
    "for theta_ in thetas:\n",
    "    # Initial guess for 'a'\n",
    "    a0 = np.ones(n)/n\n",
    "    \n",
    "    # Define constraints in the format required by 'minimize'\n",
    "    constraints = {'type': 'ineq', 'fun': positive_definite_constraint, 'args': (theta_,)}\n",
    "    \n",
    "    # Perform the optimization\n",
    "    result = minimize(objective_a_oftheta, a0, method='SLSQP', constraints=constraints, bounds=None, args = (theta_))\n",
    "    \n",
    "    # Check if the optimization was successful\n",
    "    if result.success:\n",
    "        a_star = result.x\n",
    "    else:\n",
    "        print(\"Optimization failed:\", result.message)\n",
    "    \n",
    "    #computaion of entropy, risk_measurement\n",
    "    #mvo = mean variance objective\n",
    "    Sigma_tilda = inv(inv(Sigma) - theta_ * gamma * np.outer(a_star, a_star))\n",
    "    \n",
    "    Rel_entropy = (np.log(det(Sigma @ inv(Sigma_tilda) )) + np.trace(inv(Sigma) @ Sigma_tilda - I))/2\n",
    "    \n",
    "    RPs_nominal = portfolio_risk(a_star, mu, Sigma, gamma)\n",
    "    NPs_worstcase = -np.dot(a_hat, mu) + (gamma/2)* np.dot(np.matmul(a_hat, Sigma_tilda), a_hat)\n",
    "    RPs_worstcase = -np.dot(a_star, mu) + (gamma/2)* np.dot(np.matmul(a_star, Sigma_tilda), a_star)\n",
    "\n",
    "    results_[theta_] = (Rel_entropy, NPs_worstcase, RPs_nominal, RPs_worstcase)"
   ]
  },
  {
   "cell_type": "code",
   "execution_count": 10,
   "id": "2a247c47-f0aa-4e79-aadd-fc97f33f2631",
   "metadata": {},
   "outputs": [],
   "source": [
    "# Convert the dictionary to a list of tuples\n",
    "data_list = [(key, *value) for key, value in results_.items()]\n",
    "\n",
    "# Create a DataFrame\n",
    "df_wc = pd.DataFrame(data_list, columns=['Theta', 'Entropy', 'NPs_worstcase', 'RPs_nominal',  'RPs_worstcase'])"
   ]
  },
  {
   "cell_type": "markdown",
   "id": "ccec8242",
   "metadata": {},
   "source": [
    "We also calculate the Risk Measurement at -ve $\\theta$ , which denoted the degree of incorrectness of bounds of model uncertainity."
   ]
  },
  {
   "cell_type": "code",
   "execution_count": 11,
   "id": "5b2b144e-4343-4d41-9b9e-d53a83b85984",
   "metadata": {},
   "outputs": [],
   "source": [
    "neg_results_ = {}\n",
    "neg_thetas = -1 * (np.exp(np.linspace(0, 0.5)) - 1)[1:]\n",
    "for theta_ in neg_thetas:\n",
    "    # Initial guess for 'a'\n",
    "    a0 = np.ones(n)/n \n",
    "    \n",
    "    # Define constraints in the format required by 'minimize'\n",
    "    constraints = {'type': 'ineq', 'fun': positive_definite_constraint, 'args': (theta_,)}\n",
    "    \n",
    "    # Perform the optimization\n",
    "    result = minimize(objective_a_oftheta, a0, method='SLSQP', constraints=constraints, bounds=None, args = (theta_))\n",
    "    \n",
    "    # Check if the optimization was successful\n",
    "    if result.success:\n",
    "        a_star = result.x\n",
    "    else:\n",
    "        print(\"Optimization failed:\", result.message)\n",
    "    \n",
    "    #computaion of entropy, risk_measurement\n",
    "    #mvo = mean variance objective\n",
    "    Sigma_tilda = inv(inv(Sigma) - theta_ * gamma * np.outer(a_star, a_star))\n",
    "    \n",
    "    Rel_entropy = (np.log(det(Sigma @ inv(Sigma_tilda) )) + np.trace(inv(Sigma) @ Sigma_tilda - I))/2\n",
    "    \n",
    "    NPs_worstcase = -np.dot(a_hat, mu) + (gamma/2)* np.dot(np.matmul(a_hat, Sigma_tilda), a_hat)\n",
    "    neg_results_[theta_] = (Rel_entropy, NPs_worstcase)"
   ]
  },
  {
   "cell_type": "code",
   "execution_count": 12,
   "id": "be004c72-e597-4d20-8f31-a9685500786e",
   "metadata": {
    "scrolled": true
   },
   "outputs": [],
   "source": [
    "neg_results_\n",
    "\n",
    "# Convert the dictionary to a list of tuples\n",
    "neg_theta_data_list = [(key, *value) for key, value in neg_results_.items()]\n",
    "\n",
    "# Create a DataFrame\n",
    "neg_theta_df_wc = pd.DataFrame(neg_theta_data_list, columns=['Theta', 'Entropy', 'NPs_worstcase'])"
   ]
  },
  {
   "cell_type": "code",
   "execution_count": 13,
   "id": "9f4ba3ed-80b7-4804-b8a1-a54237271137",
   "metadata": {},
   "outputs": [
    {
     "data": {
      "image/png": "[encoded data removed]",
      "text/plain": [
       "<Figure size 640x480 with 1 Axes>"
      ]
     },
     "metadata": {},
     "output_type": "display_data"
    }
   ],
   "source": [
    "# No bounds no linear constraints just simple results\n",
    "fig = plt.figure()\n",
    "#fig.patch.set_facecolor('lightskyblue')\n",
    "ax = plt.gca()\n",
    "ax.set_facecolor('lightskyblue')\n",
    "ax.axhline(y = performance_nominal, color = 'b', linestyle = (0, (3, 5, 1, 5)))  # NP Nominal\n",
    "df_wc.plot(ax = ax, x='Entropy',y='RPs_nominal', linestyle=(0, (5, 5)), linewidth=1.5, color='green') # RP Nominal\n",
    "\n",
    "df_wc.plot(ax = ax, x='Entropy',y='RPs_worstcase', linestyle='dotted', linewidth=2, color='darkorange') # RP Robust\n",
    "df_wc.plot(ax = ax, x='Entropy',y='NPs_worstcase', linestyle='solid', linewidth=1.5, color='blue') # NP Robust\n",
    "neg_theta_df_wc.plot(ax = ax, x='Entropy',y='NPs_worstcase', linestyle='solid', linewidth=1.5, color='blue') # RP Robust lower profile\n",
    "plt.show()"
   ]
  },
  {
   "cell_type": "code",
   "execution_count": 14,
   "id": "315dcbcd-794b-42f1-82d4-25960dd5e202",
   "metadata": {},
   "outputs": [],
   "source": [
    "# Adding the sum constraint results in equi-weighted portfolios."
   ]
  },
  {
   "cell_type": "markdown",
   "id": "91bbe6d3-5abf-4111-8cbb-e040defdb313",
   "metadata": {},
   "source": [
    "## Parameter Perturbations\n",
    "\n",
    "Next we show that model error as gauged by relative entropy does not necessarily correspond to a straightforward error in parameters. To illustrate, \n",
    "we examine the performance of the nominal portfolio under specific parameter perturbations. \n",
    "\n",
    "We vary the common correlation parameter from ρ = 0.14 (which produces the best performance) to ρ = 0.36 (which produces the worst); the\n",
    "relative entropy first decreases and then increases as ρ moves through this range. We also examine the effect of multiplying\n",
    "the covariance matrix of the assets by κ ∈ (0.83, 1.18)."
   ]
  },
  {
   "cell_type": "code",
   "execution_count": null,
   "id": "210e958e-c215-4bc4-8785-fe625f167ef0",
   "metadata": {},
   "outputs": [],
   "source": [
    "I = np.eye(n)\n",
    "\n",
    "results_rho_pf = []\n",
    "results_rho_ent = []\n",
    "for rho_ij in np.linspace(0.14, 0.36, 30):\n",
    "    Sigma_change = np.full((n, n), rho_ij*sig_ii*sig_ii)\n",
    "    \n",
    "    # Set the diagonal elements to the diagonal value\n",
    "    np.fill_diagonal(Sigma_change, sig_ii*sig_ii)\n",
    "    \n",
    "    a_cap = (1/gamma)* inv(Sigma_change) @ mu\n",
    "    \n",
    "    performance_pp = portfolio_risk(a_cap, mu, Sigma_change, gamma)\n",
    "                    \n",
    "    Rel_entropy_pp = (np.log(det(Sigma @ inv(Sigma_change) )) + np.trace(inv(Sigma) @ Sigma_change - I))/2\n",
    "    results_rho_pf.append(performance_pp)\n",
    "    results_rho_ent.append(Rel_entropy_pp)"
   ]
  },
  {
   "cell_type": "code",
   "execution_count": null,
   "id": "9283fa0f-a5dd-49d2-8e54-da1509cc7a30",
   "metadata": {},
   "outputs": [],
   "source": [
    "results_kap_pf = []\n",
    "results_kap_ent = []\n",
    "\n",
    "for kappa in np.linspace(0.83, 1.18, 30):\n",
    "    Sigma_change = kappa*Sigma\n",
    "    \n",
    "    a_cap = (1/gamma)* inv(Sigma_change) @ mu\n",
    "        \n",
    "    performance_pp = portfolio_risk(a_cap, mu, Sigma_change, gamma)\n",
    "    Rel_entropy_pp = (np.log(det(Sigma @ inv(Sigma_change) )) + np.trace(inv(Sigma) @ Sigma_change - I))/2\n",
    "    results_kap_pf.append(performance_pp)\n",
    "    results_kap_ent.append(Rel_entropy_pp)"
   ]
  },
  {
   "cell_type": "code",
   "execution_count": 24,
   "id": "76dc3a92-f51b-415d-b426-85180fe96bd4",
   "metadata": {},
   "outputs": [
    {
     "data": {
      "image/png": "[encoded data removed]",
      "text/plain": [
       "<Figure size 640x480 with 1 Axes>"
      ]
     },
     "metadata": {},
     "output_type": "display_data"
    }
   ],
   "source": [
    "ax = plt.gca()\n",
    "ax.plot(results_rho_ent, results_rho_pf, 'rx', linewidth=1, label='ρ‐based PF')\n",
    "ax.plot(results_kap_ent, results_kap_pf, 'bo', linewidth=1, label='κ‐based PF')\n",
    "df_wc.plot(ax = ax, x='Entropy',y='NPs_worstcase', linestyle='solid', linewidth=1.5, color='blue', label='_nolegend_')\n",
    "neg_theta_df_wc.plot(ax = ax, x='Entropy',y='NPs_worstcase', linestyle='solid', linewidth=1.5, color='blue')\n",
    "ax.legend(loc='best')\n",
    "plt.show()"
   ]
  },
  {
   "cell_type": "code",
   "execution_count": null,
   "id": "ffebcdbb",
   "metadata": {},
   "outputs": [],
   "source": []
  }
 ],
 "metadata": {
  "kernelspec": {
   "display_name": "trading",
   "language": "python",
   "name": "python3"
  },
  "language_info": {
   "codemirror_mode": {
    "name": "ipython",
    "version": 3
   },
   "file_extension": ".py",
   "mimetype": "text/x-python",
   "name": "python",
   "nbconvert_exporter": "python",
   "pygments_lexer": "ipython3",
   "version": "3.10.13"
  }
 },
 "nbformat": 4,
 "nbformat_minor": 5
}
