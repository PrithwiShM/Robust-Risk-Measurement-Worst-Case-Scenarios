{
 "cells": [
  {
   "cell_type": "code",
   "execution_count": 1,
   "id": "09cda8a9-fe8e-484a-b666-4a7d8d955e27",
   "metadata": {},
   "outputs": [],
   "source": [
    "import wrds\n",
    "import pytz\n",
    "import yfinance as yf\n",
    "import pandas as pd\n",
    "import numpy as np\n",
    "from datetime import datetime as dt\n",
    "import time\n",
    "import random"
   ]
  },
  {
   "cell_type": "code",
   "execution_count": 2,
   "id": "cd4bc0e1-ea19-467c-96c4-b15dd745bd18",
   "metadata": {},
   "outputs": [],
   "source": [
    "from numpy.linalg import det, inv, eigvals\n",
    "from scipy.optimize import minimize, LinearConstraint, Bounds"
   ]
  },
  {
   "cell_type": "code",
   "execution_count": 3,
   "id": "511fe274-ddb1-4ded-a06b-957791f2e646",
   "metadata": {},
   "outputs": [],
   "source": [
    "with open('password_wrds.txt') as f:\n",
    "    password = f.readlines()"
   ]
  },
  {
   "cell_type": "code",
   "execution_count": 4,
   "id": "b7454e85-07cc-4db3-9651-6fea2db7715c",
   "metadata": {},
   "outputs": [
    {
     "name": "stdin",
     "output_type": "stream",
     "text": [
      "Enter your WRDS username [prith]: prithwish\n",
      "Enter your password: ········\n"
     ]
    },
    {
     "name": "stdout",
     "output_type": "stream",
     "text": [
      "WRDS recommends setting up a .pgpass file.\n"
     ]
    },
    {
     "name": "stdin",
     "output_type": "stream",
     "text": [
      "Create .pgpass file now [y/n]?:  y\n"
     ]
    },
    {
     "name": "stdout",
     "output_type": "stream",
     "text": [
      "Created .pgpass file successfully.\n",
      "You can create this file yourself at any time with the create_pgpass_file() function.\n",
      "Loading library list...\n",
      "Done\n"
     ]
    }
   ],
   "source": [
    "# Connect to WRDS\n",
    "conn = wrds.Connection()"
   ]
  },
  {
   "cell_type": "code",
   "execution_count": 5,
   "id": "160ebbef-f657-4e61-b36d-7da92da5337f",
   "metadata": {
    "scrolled": true
   },
   "outputs": [],
   "source": [
    "# Query to get historical S&P 500 constituents\n",
    "query = \"\"\"\n",
    "SELECT DISTINCT dsp500.permno, dsp500.start, dsp500.ending, msenames.ticker, msenames.comnam\n",
    "FROM crsp.dsp500list AS dsp500\n",
    "INNER JOIN crsp.msenames AS msenames\n",
    "ON dsp500.permno = msenames.permno\n",
    "WHERE dsp500.start < '1996-01-01' and dsp500.ending > '2020-12-31';\n",
    "\"\"\"\n",
    "\n",
    "# Execute the query and fetch the data\n",
    "sp500_constituents = conn.raw_sql(query)"
   ]
  },
  {
   "cell_type": "code",
   "execution_count": 6,
   "id": "f7141962-4549-455d-9d21-5eefab34aeaa",
   "metadata": {},
   "outputs": [
    {
     "name": "stdout",
     "output_type": "stream",
     "text": [
      "Approximately 105258384 rows in crsp.dsf.\n",
      "       name  nullable              type comment\n",
      "0     cusip      True        VARCHAR(8)    None\n",
      "1    permno      True           INTEGER    None\n",
      "2    permco      True           INTEGER    None\n",
      "3    issuno      True           INTEGER    None\n",
      "4     hexcd      True          SMALLINT    None\n",
      "5    hsiccd      True           INTEGER    None\n",
      "6      date      True              DATE    None\n",
      "7     bidlo      True    NUMERIC(11, 5)    None\n",
      "8     askhi      True    NUMERIC(11, 5)    None\n",
      "9       prc      True    NUMERIC(11, 5)    None\n",
      "10      vol      True    NUMERIC(10, 0)    None\n",
      "11      ret      True    NUMERIC(10, 6)    None\n",
      "12      bid      True    NUMERIC(11, 5)    None\n",
      "13      ask      True    NUMERIC(11, 5)    None\n",
      "14   shrout      True  DOUBLE PRECISION    None\n",
      "15   cfacpr      True  DOUBLE PRECISION    None\n",
      "16  cfacshr      True  DOUBLE PRECISION    None\n",
      "17  openprc      True    NUMERIC(11, 5)    None\n",
      "18   numtrd      True           INTEGER    None\n",
      "19     retx      True    NUMERIC(10, 6)    None\n"
     ]
    }
   ],
   "source": [
    "# Replace 'crsp' and 'dsp500list' with the schema and table name you are interested in\n",
    "table_description = conn.describe_table('crsp', 'dsf')\n",
    "\n",
    "# Print the description\n",
    "print(table_description)"
   ]
  },
  {
   "cell_type": "code",
   "execution_count": 7,
   "id": "3b4154f3-3a90-421a-a511-89d7a2cf1280",
   "metadata": {},
   "outputs": [
    {
     "name": "stdout",
     "output_type": "stream",
     "text": [
      "--- 457.11151027679443 seconds ---\n"
     ]
    },
    {
     "data": {
      "text/html": [
       "<div>\n",
       "<style scoped>\n",
       "    .dataframe tbody tr th:only-of-type {\n",
       "        vertical-align: middle;\n",
       "    }\n",
       "\n",
       "    .dataframe tbody tr th {\n",
       "        vertical-align: top;\n",
       "    }\n",
       "\n",
       "    .dataframe thead th {\n",
       "        text-align: right;\n",
       "    }\n",
       "</style>\n",
       "<table border=\"1\" class=\"dataframe\">\n",
       "  <thead>\n",
       "    <tr style=\"text-align: right;\">\n",
       "      <th></th>\n",
       "      <th>date</th>\n",
       "      <th>permno</th>\n",
       "      <th>ret</th>\n",
       "      <th>prc</th>\n",
       "      <th>cfacpr</th>\n",
       "    </tr>\n",
       "  </thead>\n",
       "  <tbody>\n",
       "    <tr>\n",
       "      <th>0</th>\n",
       "      <td>1996-01-02</td>\n",
       "      <td>10001</td>\n",
       "      <td>-0.026667</td>\n",
       "      <td>-9.12500</td>\n",
       "      <td>1.5</td>\n",
       "    </tr>\n",
       "    <tr>\n",
       "      <th>1</th>\n",
       "      <td>1996-01-03</td>\n",
       "      <td>10001</td>\n",
       "      <td>0.041096</td>\n",
       "      <td>9.50000</td>\n",
       "      <td>1.5</td>\n",
       "    </tr>\n",
       "    <tr>\n",
       "      <th>2</th>\n",
       "      <td>1996-01-04</td>\n",
       "      <td>10001</td>\n",
       "      <td>-0.039474</td>\n",
       "      <td>-9.12500</td>\n",
       "      <td>1.5</td>\n",
       "    </tr>\n",
       "    <tr>\n",
       "      <th>3</th>\n",
       "      <td>1996-01-05</td>\n",
       "      <td>10001</td>\n",
       "      <td>-0.041096</td>\n",
       "      <td>8.75000</td>\n",
       "      <td>1.5</td>\n",
       "    </tr>\n",
       "    <tr>\n",
       "      <th>4</th>\n",
       "      <td>1996-01-08</td>\n",
       "      <td>10001</td>\n",
       "      <td>0.000000</td>\n",
       "      <td>8.75000</td>\n",
       "      <td>1.5</td>\n",
       "    </tr>\n",
       "    <tr>\n",
       "      <th>...</th>\n",
       "      <td>...</td>\n",
       "      <td>...</td>\n",
       "      <td>...</td>\n",
       "      <td>...</td>\n",
       "      <td>...</td>\n",
       "    </tr>\n",
       "    <tr>\n",
       "      <th>8243</th>\n",
       "      <td>2020-12-24</td>\n",
       "      <td>93436</td>\n",
       "      <td>0.024444</td>\n",
       "      <td>661.77002</td>\n",
       "      <td>3.0</td>\n",
       "    </tr>\n",
       "    <tr>\n",
       "      <th>8244</th>\n",
       "      <td>2020-12-28</td>\n",
       "      <td>93436</td>\n",
       "      <td>0.002901</td>\n",
       "      <td>663.69000</td>\n",
       "      <td>3.0</td>\n",
       "    </tr>\n",
       "    <tr>\n",
       "      <th>8245</th>\n",
       "      <td>2020-12-29</td>\n",
       "      <td>93436</td>\n",
       "      <td>0.003465</td>\n",
       "      <td>665.98999</td>\n",
       "      <td>3.0</td>\n",
       "    </tr>\n",
       "    <tr>\n",
       "      <th>8246</th>\n",
       "      <td>2020-12-30</td>\n",
       "      <td>93436</td>\n",
       "      <td>0.043229</td>\n",
       "      <td>694.78003</td>\n",
       "      <td>3.0</td>\n",
       "    </tr>\n",
       "    <tr>\n",
       "      <th>8247</th>\n",
       "      <td>2020-12-31</td>\n",
       "      <td>93436</td>\n",
       "      <td>0.015674</td>\n",
       "      <td>705.66998</td>\n",
       "      <td>3.0</td>\n",
       "    </tr>\n",
       "  </tbody>\n",
       "</table>\n",
       "<p>47008248 rows × 5 columns</p>\n",
       "</div>"
      ],
      "text/plain": [
       "            date  permno       ret        prc  cfacpr\n",
       "0     1996-01-02   10001 -0.026667   -9.12500     1.5\n",
       "1     1996-01-03   10001  0.041096    9.50000     1.5\n",
       "2     1996-01-04   10001 -0.039474   -9.12500     1.5\n",
       "3     1996-01-05   10001 -0.041096    8.75000     1.5\n",
       "4     1996-01-08   10001  0.000000    8.75000     1.5\n",
       "...          ...     ...       ...        ...     ...\n",
       "8243  2020-12-24   93436  0.024444  661.77002     3.0\n",
       "8244  2020-12-28   93436  0.002901  663.69000     3.0\n",
       "8245  2020-12-29   93436  0.003465  665.98999     3.0\n",
       "8246  2020-12-30   93436  0.043229  694.78003     3.0\n",
       "8247  2020-12-31   93436  0.015674  705.66998     3.0\n",
       "\n",
       "[47008248 rows x 5 columns]"
      ]
     },
     "execution_count": 7,
     "metadata": {},
     "output_type": "execute_result"
    }
   ],
   "source": [
    "# Query to get historical S&P 500 constituents\n",
    "start_time = time.time()\n",
    "query = \"\"\"\n",
    "SELECT date, permno, ret, prc, cfacpr\n",
    "FROM crsp.dsf\n",
    "WHERE date BETWEEN '1996-01-01' AND '2020-12-31';\n",
    "\"\"\"\n",
    "\n",
    "# Execute the query and fetch the data\n",
    "stock_timess = conn.raw_sql(query)\n",
    "print(\"--- %s seconds ---\" % (time.time() - start_time))\n",
    "stock_timess"
   ]
  },
  {
   "cell_type": "code",
   "execution_count": 9,
   "id": "f7bde3b6-a029-422f-96dc-ba2da62a7fc0",
   "metadata": {},
   "outputs": [],
   "source": [
    "#stock_timess.to_pickle('stock_ts_pickle.p')\n",
    "\n",
    "stock_timess = pd.read_pickle('stock_ts_pickle.p')"
   ]
  },
  {
   "cell_type": "code",
   "execution_count": null,
   "id": "fc6f5896-31e1-4bd1-ab6b-cf8ac67f44bc",
   "metadata": {},
   "outputs": [],
   "source": []
  },
  {
   "cell_type": "code",
   "execution_count": 10,
   "id": "eee18a9e-441f-4d85-b007-d2cbb2e2ca63",
   "metadata": {},
   "outputs": [],
   "source": [
    "# Disconnect from WRDS\n",
    "conn.close()"
   ]
  },
  {
   "cell_type": "code",
   "execution_count": 11,
   "id": "b2425db0-dcf4-4412-83c1-ae51c5d12c92",
   "metadata": {},
   "outputs": [],
   "source": [
    "special_cases = sp500_constituents[~sp500_constituents['ticker'].isna()][['permno', 'ticker']].drop_duplicates()\n",
    "\n",
    "# Currently, using a randomly generated subset Of the stocks present in the time frame from 1996 to 2020\n",
    "random.seed(10)\n",
    "sdr = random.sample(range(1, special_cases.shape[0]), 120)\n",
    "myset = special_cases.iloc[sdr]\n",
    "myset_dict = dict(zip(myset.permno, myset.ticker))"
   ]
  },
  {
   "cell_type": "code",
   "execution_count": 12,
   "id": "65edc59c-5e76-4568-80b4-9df0b866c11e",
   "metadata": {},
   "outputs": [],
   "source": [
    "# Define the stock permanent numbers for S&P 500 stocks (replace with actual permnos)\n",
    "permnos = list(myset_dict.keys())  # Example permnos for AAPL, MSFT, WMT respectively\n",
    "# Initialize an empty DataFrame to store results\n",
    "daily_returns = pd.DataFrame()\n",
    "# Loop through each stock's permno and fetch data\n",
    "for permno in permnos:\n",
    "    stock_data= stock_timess[stock_timess['permno']==permno].copy()\n",
    "    stock_data.rename(columns={'ret': myset_dict[permno]}, inplace=True)\n",
    "    #stock_data['date'] = pd.to_datetime(stock_data['date'])\n",
    "    stock_data.set_index('date', inplace=True)\n",
    "    stock_data.index = pd.to_datetime(stock_data.index).strftime('%Y-%m-%d')\n",
    "    # Concatenate daily returns for each stock to the main DataFrame\n",
    "    daily_returns = pd.concat([daily_returns, stock_data[myset_dict[permno]]], axis=1, sort=True)"
   ]
  },
  {
   "cell_type": "code",
   "execution_count": null,
   "id": "f13646f0-636a-417c-b8c9-5070389a7b5c",
   "metadata": {},
   "outputs": [],
   "source": []
  },
  {
   "cell_type": "code",
   "execution_count": null,
   "id": "93fa3d58-84ce-4091-a3ac-fc18a87a2c68",
   "metadata": {},
   "outputs": [],
   "source": []
  },
  {
   "cell_type": "markdown",
   "id": "e8ed4614-e1dc-42d4-a679-c24853b5b453",
   "metadata": {},
   "source": [
    "Yahoo finance data fetch"
   ]
  },
  {
   "cell_type": "code",
   "execution_count": 66,
   "id": "507b9219-d72f-4008-9e76-7528032c5a17",
   "metadata": {},
   "outputs": [
    {
     "name": "stderr",
     "output_type": "stream",
     "text": [
      "[*********************100%%**********************]  50 of 50 completed\n"
     ]
    }
   ],
   "source": [
    "# Define the stock tickers and the time period\n",
    "tickers = [\"AAPL\", \"MSFT\", \"AMZN\", \"GOOGL\", \"META\", \"TSLA\", \"BRK-B\", \"JNJ\",\n",
    "\"WMT\", \"V\", \"PG\", \"NVDA\", \"JPM\", \"UNH\", \"HD\", \"MA\", \"DIS\", \"PFE\", \"VZ\", \n",
    "\"INTC\", \"CMCSA\", \"T\", \"KO\", \"MRK\", \"PEP\", \"ABT\", \"CVX\", \"ORCL\", \"CSCO\", \n",
    "\"NFLX\", \"XOM\", \"IBM\", \"NKE\", \"CRM\", \"ADBE\", \"AVGO\", \"GS\", \"QCOM\", \"BA\", \n",
    "\"PYPL\", \"TXN\", \"AXP\", \"AMD\", \"C\", \"MS\", \"CAT\", \"HON\", \"SBUX\", \"COST\", \"MCD\"]  # Replace with S&P 500 tickers\n",
    "\n",
    "tz = pytz.timezone(\"America/New_York\")\n",
    "start = tz.localize(dt(1996,1,1))\n",
    "end = tz.localize(dt(2020,12,31))\n",
    "start_date = \"1996-01-01\"\n",
    "end_date = \"2020-12-31\"\n",
    "\n",
    "# Download the stock price data\n",
    "data = yf.download(tickers, start=start, end=end)['Adj Close']\n"
   ]
  },
  {
   "cell_type": "code",
   "execution_count": 68,
   "id": "be17f934-038d-47de-908d-adb4857d4a3c",
   "metadata": {},
   "outputs": [],
   "source": [
    "data = data.drop(columns=['PYPL', 'MA']) # very recenlty released IPOs"
   ]
  },
  {
   "cell_type": "code",
   "execution_count": 69,
   "id": "750a1db3-803f-4f20-bbf6-436792741b0f",
   "metadata": {},
   "outputs": [
    {
     "name": "stderr",
     "output_type": "stream",
     "text": [
      "C:\\Users\\prith\\AppData\\Local\\Temp\\ipykernel_30472\\4103529606.py:1: FutureWarning: The 'fill_method' keyword being not None and the 'limit' keyword in DataFrame.pct_change are deprecated and will be removed in a future version. Either fill in any non-leading NA values prior to calling pct_change or specify 'fill_method=None' to not fill NA values.\n",
      "  daily_returns = data.pct_change(fill_method='ffill')\n"
     ]
    }
   ],
   "source": [
    "daily_returns = data.pct_change(fill_method='ffill')"
   ]
  },
  {
   "cell_type": "code",
   "execution_count": 43,
   "id": "08149f63-71f7-4e49-b604-7ee073c3f8d8",
   "metadata": {},
   "outputs": [],
   "source": [
    "#training and testing dates\n",
    "flag = 2008\n",
    "\n",
    "if flag == 2008:\n",
    "    training_period_start = \"1996-01-01\"\n",
    "    training_period_end = \"2007-12-31\"\n",
    "    test_period_end = \"2008-12-31\"\n",
    "else:\n",
    "    training_period_start = \"2009-01-01\"\n",
    "    training_period_end = \"2019-12-31\"\n",
    "    test_period_end = \"2020-12-31\""
   ]
  },
  {
   "cell_type": "code",
   "execution_count": 44,
   "id": "f6c5e67b-fc47-4270-81d6-853e9be03595",
   "metadata": {},
   "outputs": [],
   "source": [
    "# Calculate the mean and covariance of daily returns for the first 12 years\n",
    "training_data = daily_returns.loc[training_period_start:training_period_end]\n",
    "\n",
    "mean_returns = training_data.mean()\n",
    "cov_matrix = training_data.cov()"
   ]
  },
  {
   "cell_type": "code",
   "execution_count": 45,
   "id": "10c91553-f7a7-4f27-aa5e-17e1fc854dc4",
   "metadata": {},
   "outputs": [],
   "source": [
    "# Risk aversion parameter (gamma)\n",
    "gamma = 10.0\n",
    "\n",
    "# Vector of ones\n",
    "n = len(mean_returns)\n",
    "ones = np.ones(n)\n",
    "\n",
    "mu = np.array(mean_returns)\n",
    "Sigma = np.array(cov_matrix)\n",
    "\n",
    "# Note here, there is sum constraint, but no bound constraints\n",
    "# Calculate (gamma * Sigma)^-1\n",
    "gamma_sigma_inv = inv(gamma * Sigma)\n",
    "\n",
    "# Calculate lambda\n",
    "lambda_val = (ones.T @ gamma_sigma_inv @ mu - 1) / (ones.T @ gamma_sigma_inv @ ones)\n",
    "\n",
    "# Calculate optimal portfolio weights\n",
    "a = gamma_sigma_inv @ (mu - lambda_val * ones)"
   ]
  },
  {
   "cell_type": "code",
   "execution_count": 46,
   "id": "74ddfe0e-4c8e-4907-a0a1-a64e20b5e6b4",
   "metadata": {},
   "outputs": [],
   "source": [
    "#check realized variance\n",
    "testing_data = daily_returns.loc[training_period_end:test_period_end]\n",
    "\n",
    "mean_returns_t = testing_data.mean()\n",
    "cov_matrix_t = testing_data.cov()\n",
    "\n",
    "Sigma_realized = np.array(cov_matrix_t)\n",
    "Realized_variance = a.T @ Sigma_realized @ a "
   ]
  },
  {
   "cell_type": "code",
   "execution_count": 47,
   "id": "8913efe7-7bbd-46e9-8fe6-8112782386ec",
   "metadata": {},
   "outputs": [
    {
     "name": "stdout",
     "output_type": "stream",
     "text": [
      "Realized_variance  9.21e-04\n",
      "2x Std error  1.63e-04\n"
     ]
    }
   ],
   "source": [
    "no_working_days = testing_data.shape[0]\n",
    "std_error_rv = np.sqrt(2/(no_working_days))* Realized_variance\n",
    "\n",
    "print('Realized_variance ', \"{:.2e}\".format(Realized_variance))\n",
    "print('2x Std error ', \"{:.2e}\".format(2* std_error_rv))"
   ]
  },
  {
   "cell_type": "code",
   "execution_count": 48,
   "id": "a2dcb35d-e1cf-40f7-9504-e8beeb71254b",
   "metadata": {},
   "outputs": [
    {
     "name": "stdout",
     "output_type": "stream",
     "text": [
      "forcasted_variance  1.44e-04\n",
      "2x Std error  3.19e-05\n"
     ]
    }
   ],
   "source": [
    "#forecast of the future variance = initial time frame variance\n",
    "forcasted_variance = a.T @ Sigma @ a\n",
    "\n",
    "no_training_days = training_data.shape[0]\n",
    "std_error_fv = np.sqrt((2 * a.T @ Sigma @ Sigma @ a) / no_training_days)\n",
    "\n",
    "print('forcasted_variance ', \"{:.2e}\".format(forcasted_variance))\n",
    "print('2x Std error ', \"{:.2e}\".format(2*std_error_fv))"
   ]
  },
  {
   "cell_type": "code",
   "execution_count": 49,
   "id": "c31f27c6-9502-4d0f-9fef-e80c8a6080ee",
   "metadata": {},
   "outputs": [],
   "source": [
    "I = np.eye(n)\n",
    "\n",
    "def objective_a_oftheta(a, theta):\n",
    "    term1 = 1 / np.sqrt(det(I - theta * gamma * np.outer(a,a) @ Sigma))\n",
    "    return (1/theta)*np.log(term1) + a.T @ mu\n",
    "\n",
    "def positive_definite_constraint(a, theta):\n",
    "    eigenvalues = eigvals(inv(Sigma) - theta * gamma * np.outer(a,a) )\n",
    "    return np.min(eigenvalues) - 1e-10  # Ensure all eigenvalues are slightly greater than zero\n",
    "\n",
    "def worst_case_covariance_matrix(Sigma, theta, gamma, a):\n",
    "    inv_Sigma_worst_case = inv(Sigma) - theta * gamma * np.outer(a, a)\n",
    "    return inv(inv_Sigma_worst_case)"
   ]
  },
  {
   "cell_type": "code",
   "execution_count": 65,
   "id": "8e3d0a1d-2570-45f8-800d-4ac103d34bf2",
   "metadata": {},
   "outputs": [],
   "source": [
    "#specific case for analysis\n",
    "theta_ = 700"
   ]
  },
  {
   "cell_type": "code",
   "execution_count": 66,
   "id": "78139298-7e4f-42fb-8a0b-ddb488406065",
   "metadata": {},
   "outputs": [],
   "source": [
    "# sampled possible initial points\n",
    "n_points = 2\n",
    "points_on_hyperplane = np.zeros((n_points, n))\n",
    "\n",
    "for j in range(n_points):\n",
    "    random_numbers = np.random.rand(n)\n",
    "    # Normalize the numbers so their sum is 10\n",
    "    normalized_numbers = random_numbers / random_numbers.sum() \n",
    "\n",
    "    points_on_hyperplane[j] = normalized_numbers"
   ]
  },
  {
   "cell_type": "code",
   "execution_count": 67,
   "id": "fc6edb5e-ee8b-4244-8f2d-a7acbabce1f1",
   "metadata": {},
   "outputs": [],
   "source": [
    "# Initial guesses for 'a'\n",
    "initial_guesses_if = []\n",
    "for a0 in points_on_hyperplane:\n",
    "    initial_guesses_if.extend([np.random.permutation(a0) for _ in range(100)])\n",
    "initial_guesses = [aa for aa in initial_guesses_if if positive_definite_constraint(aa, theta_)>0]"
   ]
  },
  {
   "cell_type": "code",
   "execution_count": 68,
   "id": "3201a78a-b1e8-44ef-99c6-e8c54c27fe72",
   "metadata": {},
   "outputs": [
    {
     "data": {
      "text/plain": [
       "(200, 200)"
      ]
     },
     "execution_count": 68,
     "metadata": {},
     "output_type": "execute_result"
    }
   ],
   "source": [
    "len(initial_guesses_if), len(initial_guesses)"
   ]
  },
  {
   "cell_type": "code",
   "execution_count": 69,
   "id": "217604fd-e4e2-4685-b1f1-2c61c9bf07e3",
   "metadata": {},
   "outputs": [
    {
     "name": "stdout",
     "output_type": "stream",
     "text": [
      "Optimized a: [-0.02480483  0.02340253  0.01173643 -0.02585991  0.05361257  0.04009559\n",
      "  0.04928721 -0.01526163  0.05560254  0.03725308  0.03444988 -0.01726011\n",
      " -0.00888254  0.04588782 -0.05565864  0.03174566 -0.0152721   0.04441597\n",
      "  0.0040984   0.02069922  0.00375933  0.00527893  0.0423104   0.01252786\n",
      "  0.04320106 -0.01260059  0.06218643 -0.08984915 -0.01563911  0.04827752\n",
      "  0.02677956  0.01087718  0.05182509 -0.04551886 -0.04058754  0.08833358\n",
      "  0.04570204  0.08690696 -0.01274729 -0.04780483 -0.05239957  0.01798185\n",
      " -0.00646307  0.01306903  0.06347882  0.1559514   0.0094484   0.04586273\n",
      " -0.04177039  0.01859627  0.09109784  0.0065718   0.00204922  0.01257142\n",
      " -0.01513821  0.04557855 -0.14862356 -0.0375305   0.01550181 -0.02006664\n",
      "  0.00248279 -0.00965163 -0.02394949  0.05055536  0.0215898   0.02957425\n",
      " -0.05834488 -0.04168184 -0.0009507  -0.03180758  0.04223558  0.07964388\n",
      " -0.01249482  0.0444535  -0.04516207  0.00812321  0.00891845 -0.00952687\n",
      " -0.00690359  0.04796783 -0.00262453  0.04345547 -0.00152521  0.05898434\n",
      "  0.01790207  0.01724644 -0.0067447   0.11472366 -0.02849983 -0.05297977\n",
      "  0.01671798]\n",
      " Minimum objective reached at 0.0005479534828641533 Not portfolio objective!\n",
      "--- 1299.2735481262207 Optimization time :seconds ---\n"
     ]
    }
   ],
   "source": [
    "start_time = time.time()\n",
    "\n",
    "#extra constraints\n",
    "ones_for_sum = np.ones((1, n))\n",
    "linear_constraint = LinearConstraint(ones_for_sum, [1], [1])\n",
    "bounds = Bounds(0, 1)\n",
    "# Initialize variables to track the best result\n",
    "best_result = None\n",
    "\n",
    "# Iterate over each initial guess\n",
    "for ax in initial_guesses:\n",
    "\n",
    "    # Define constraints in the format required by 'minimize'\n",
    "    constraints = [{'type': 'ineq', 'fun': positive_definite_constraint, 'args': (theta_,)},\n",
    "                  linear_constraint]\n",
    "    \n",
    "    # Perform the optimization\n",
    "    result = minimize(objective_a_oftheta, ax, method='SLSQP', constraints=constraints, bounds=None, args = (theta_))\n",
    "    if ~result.success:\n",
    "        print(\"Optimization failed:\", result.message)\n",
    "    # Update the best result if necessary\n",
    "    if best_result is None or result.fun < best_result.fun:\n",
    "        best_result = result\n",
    "        \n",
    "# Check if the optimization was successful\n",
    "if best_result.success:\n",
    "    a_star = best_result.x\n",
    "    print(\"Optimized a:\", a_star)\n",
    "    print(\" Minimum objective reached at\", np.real(best_result.fun), \"Not portfolio objective!\")\n",
    "else:\n",
    "    print(\"Optimization failed:\", best_result.message)\n",
    "\n",
    "print(\"--- %s Optimization time :seconds ---\" % (time.time() - start_time))"
   ]
  },
  {
   "cell_type": "code",
   "execution_count": 70,
   "id": "dd6c5a91-cf66-45f9-8f6d-1a34e1062097",
   "metadata": {},
   "outputs": [
    {
     "name": "stdout",
     "output_type": "stream",
     "text": [
      "worst_variance  1.44e-04\n",
      "std_error_wv  1.62e-05\n",
      "Model_Error  6.57e-08\n"
     ]
    }
   ],
   "source": [
    "Sigma_tilda = worst_case_covariance_matrix(Sigma, theta_, gamma, a_star)\n",
    "worst_variance = a.T @ Sigma_tilda @ a\n",
    "std_error_wv = np.sqrt((2 * a.T @ Sigma_tilda @ Sigma_tilda @ a) / no_training_days)\n",
    "\n",
    "print('worst_variance ', \"{:.2e}\".format(worst_variance))\n",
    "print('std_error_wv ', \"{:.2e}\".format(std_error_wv))\n",
    "\n",
    "Model_Error = np.abs(forcasted_variance - worst_variance)\n",
    "print('Model_Error ', \"{:.2e}\".format(Model_Error))"
   ]
  },
  {
   "cell_type": "code",
   "execution_count": 71,
   "id": "bb96368b-a483-4d89-9f5c-1b75d1968e06",
   "metadata": {},
   "outputs": [
    {
     "name": "stdout",
     "output_type": "stream",
     "text": [
      "forcasted variance with both errors in confidence interval-\n",
      "( 1.12e-04 1.77e-04 )\n"
     ]
    }
   ],
   "source": [
    "print('forcasted variance with both errors in confidence interval-')\n",
    "t_err = 2*(std_error_wv+Model_Error)\n",
    "print('(',\"{:.2e}\".format(worst_variance-t_err), \"{:.2e}\".format(worst_variance+t_err), ')')"
   ]
  },
  {
   "cell_type": "code",
   "execution_count": 57,
   "id": "82d456f1-9f2c-421c-89e0-30eab13d0336",
   "metadata": {},
   "outputs": [
    {
     "name": "stdout",
     "output_type": "stream",
     "text": [
      "3.31e-05\n"
     ]
    }
   ],
   "source": [
    "print(\"{:.2e}\".format(t_err))"
   ]
  },
  {
   "cell_type": "code",
   "execution_count": null,
   "id": "944c8d97-f6c9-4ec9-acaf-1262bb8dc421",
   "metadata": {},
   "outputs": [],
   "source": []
  }
 ],
 "metadata": {
  "kernelspec": {
   "display_name": "trading",
   "language": "python",
   "name": "trading"
  },
  "language_info": {
   "codemirror_mode": {
    "name": "ipython",
    "version": 3
   },
   "file_extension": ".py",
   "mimetype": "text/x-python",
   "name": "python",
   "nbconvert_exporter": "python",
   "pygments_lexer": "ipython3",
   "version": "3.10.13"
  }
 },
 "nbformat": 4,
 "nbformat_minor": 5
}
